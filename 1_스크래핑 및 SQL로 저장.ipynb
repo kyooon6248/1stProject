{
 "cells": [
  {
   "cell_type": "code",
   "execution_count": 1,
   "id": "e8ee67ca",
   "metadata": {},
   "outputs": [],
   "source": [
    "# 데이터 수집 라이브러리 호출\n",
    "import time\n",
    "import requests\n",
    "import selenium\n",
    "from selenium import webdriver\n",
    "from bs4 import BeautifulSoup\n",
    "\n",
    "# SQL 연결용 라이브러리 호출\n",
    "import pymysql"
   ]
  },
  {
   "cell_type": "code",
   "execution_count": 2,
   "id": "3b635b75",
   "metadata": {},
   "outputs": [],
   "source": [
    "url = 'https://www.vivino.com/explore?e=eJzLLbI11rNQy83MszU0AAK13MQKWxMwK7nS1jtILRlIhKsV2BqqpafZliUWZaaWJOao5Rel2KrlJ1XaqpWXRMcCJcGUEQCDaRfR'\n",
    "\n",
    "options = webdriver.ChromeOptions()\n",
    "options.add_argument('user-agent=Mozilla/5.0 (Windows NT 10.0; Win64; x64) AppleWebKit/537.36 (KHTML, like Gecko) Chrome/109.0.0.0 Safari/537.36')\n",
    "\n",
    "driver = webdriver.Chrome(options=options)\n",
    "driver.get(url)\n",
    "driver.maximize_window()"
   ]
  },
  {
   "cell_type": "code",
   "execution_count": 3,
   "id": "e86bddeb",
   "metadata": {},
   "outputs": [
    {
     "name": "stdout",
     "output_type": "stream",
     "text": [
      "이전 높이 = 10466\n",
      "스크롤 완료 8\n"
     ]
    }
   ],
   "source": [
    "prev_height = driver.execute_script('return document.body.scrollHeight')\n",
    "print(f\"이전 높이 = {prev_height}\")\n",
    "\n",
    "cnt = 0;\n",
    "while True:\n",
    "    driver.execute_script('window.scrollTo(0, document.body.scrollHeight)')\n",
    "    time.sleep(2)\n",
    "\n",
    "    curr_height = driver.execute_script('return document.body.scrollHeight')\n",
    "\n",
    "    if curr_height == prev_height:\n",
    "        driver.execute_script('window.scrollTo(0, 0)')\n",
    "        break\n",
    "    cnt += 1\n",
    "    prev_height = curr_height\n",
    "print('스크롤 완료', cnt)"
   ]
  },
  {
   "cell_type": "code",
   "execution_count": 4,
   "id": "5c9b3822",
   "metadata": {},
   "outputs": [
    {
     "name": "stdout",
     "output_type": "stream",
     "text": [
      "총 주소 갯수 193\n"
     ]
    }
   ],
   "source": [
    "soup = BeautifulSoup(driver.page_source, 'lxml')\n",
    "\n",
    "url_elems = soup.find_all('a', {'class' : 'anchor_anchor__m8Qi- wineCard__cardLink--3F_uB'})\n",
    "link_list = []\n",
    "\n",
    "for url in url_elems:\n",
    "    link_list.append(f\"https://www.vivino.com{url['href']}\")\n",
    "    \n",
    "print(f\"총 주소 갯수 {len(link_list)}\")"
   ]
  },
  {
   "cell_type": "code",
   "execution_count": 5,
   "id": "d6354c6d",
   "metadata": {},
   "outputs": [
    {
     "ename": "NoSuchWindowException",
     "evalue": "Message: no such window: target window already closed\nfrom unknown error: web view not found\n  (Session info: chrome=109.0.5414.121)\n",
     "output_type": "error",
     "traceback": [
      "\u001b[1;31m---------------------------------------------------------------------------\u001b[0m",
      "\u001b[1;31mNoSuchWindowException\u001b[0m                     Traceback (most recent call last)",
      "\u001b[1;32m~\\AppData\\Local\\Temp\\ipykernel_9772\\3505596266.py\u001b[0m in \u001b[0;36m<module>\u001b[1;34m\u001b[0m\n\u001b[0;32m      5\u001b[0m     \u001b[0mdriver\u001b[0m \u001b[1;33m=\u001b[0m \u001b[0mwebdriver\u001b[0m\u001b[1;33m.\u001b[0m\u001b[0mChrome\u001b[0m\u001b[1;33m(\u001b[0m\u001b[0moptions\u001b[0m\u001b[1;33m=\u001b[0m\u001b[0moptions\u001b[0m\u001b[1;33m)\u001b[0m\u001b[1;33m\u001b[0m\u001b[1;33m\u001b[0m\u001b[0m\n\u001b[0;32m      6\u001b[0m     \u001b[0mdriver\u001b[0m\u001b[1;33m.\u001b[0m\u001b[0mget\u001b[0m\u001b[1;33m(\u001b[0m\u001b[0mlink_list\u001b[0m\u001b[1;33m[\u001b[0m\u001b[0mi\u001b[0m\u001b[1;33m]\u001b[0m\u001b[1;33m)\u001b[0m\u001b[1;33m\u001b[0m\u001b[1;33m\u001b[0m\u001b[0m\n\u001b[1;32m----> 7\u001b[1;33m     \u001b[0mdriver\u001b[0m\u001b[1;33m.\u001b[0m\u001b[0mmaximize_window\u001b[0m\u001b[1;33m(\u001b[0m\u001b[1;33m)\u001b[0m\u001b[1;33m\u001b[0m\u001b[1;33m\u001b[0m\u001b[0m\n\u001b[0m\u001b[0;32m      8\u001b[0m     \u001b[0mtime\u001b[0m\u001b[1;33m.\u001b[0m\u001b[0msleep\u001b[0m\u001b[1;33m(\u001b[0m\u001b[1;36m1\u001b[0m\u001b[1;33m)\u001b[0m\u001b[1;33m\u001b[0m\u001b[1;33m\u001b[0m\u001b[0m\n\u001b[0;32m      9\u001b[0m     \u001b[0mprev_height\u001b[0m \u001b[1;33m=\u001b[0m \u001b[0mdriver\u001b[0m\u001b[1;33m.\u001b[0m\u001b[0mexecute_script\u001b[0m\u001b[1;33m(\u001b[0m\u001b[1;34m'return document.body.scrollHeight'\u001b[0m\u001b[1;33m)\u001b[0m\u001b[1;33m\u001b[0m\u001b[1;33m\u001b[0m\u001b[0m\n",
      "\u001b[1;32m~\\anaconda3\\lib\\site-packages\\selenium\\webdriver\\remote\\webdriver.py\u001b[0m in \u001b[0;36mmaximize_window\u001b[1;34m(self)\u001b[0m\n\u001b[0;32m    735\u001b[0m             \u001b[0mcommand\u001b[0m \u001b[1;33m=\u001b[0m \u001b[0mCommand\u001b[0m\u001b[1;33m.\u001b[0m\u001b[0mMAXIMIZE_WINDOW\u001b[0m\u001b[1;33m\u001b[0m\u001b[1;33m\u001b[0m\u001b[0m\n\u001b[0;32m    736\u001b[0m             \u001b[0mparams\u001b[0m \u001b[1;33m=\u001b[0m \u001b[1;33m{\u001b[0m\u001b[1;34m'windowHandle'\u001b[0m\u001b[1;33m:\u001b[0m \u001b[1;34m'current'\u001b[0m\u001b[1;33m}\u001b[0m\u001b[1;33m\u001b[0m\u001b[1;33m\u001b[0m\u001b[0m\n\u001b[1;32m--> 737\u001b[1;33m         \u001b[0mself\u001b[0m\u001b[1;33m.\u001b[0m\u001b[0mexecute\u001b[0m\u001b[1;33m(\u001b[0m\u001b[0mcommand\u001b[0m\u001b[1;33m,\u001b[0m \u001b[0mparams\u001b[0m\u001b[1;33m)\u001b[0m\u001b[1;33m\u001b[0m\u001b[1;33m\u001b[0m\u001b[0m\n\u001b[0m\u001b[0;32m    738\u001b[0m \u001b[1;33m\u001b[0m\u001b[0m\n\u001b[0;32m    739\u001b[0m     \u001b[1;32mdef\u001b[0m \u001b[0mfullscreen_window\u001b[0m\u001b[1;33m(\u001b[0m\u001b[0mself\u001b[0m\u001b[1;33m)\u001b[0m\u001b[1;33m:\u001b[0m\u001b[1;33m\u001b[0m\u001b[1;33m\u001b[0m\u001b[0m\n",
      "\u001b[1;32m~\\anaconda3\\lib\\site-packages\\selenium\\webdriver\\remote\\webdriver.py\u001b[0m in \u001b[0;36mexecute\u001b[1;34m(self, driver_command, params)\u001b[0m\n\u001b[0;32m    319\u001b[0m         \u001b[0mresponse\u001b[0m \u001b[1;33m=\u001b[0m \u001b[0mself\u001b[0m\u001b[1;33m.\u001b[0m\u001b[0mcommand_executor\u001b[0m\u001b[1;33m.\u001b[0m\u001b[0mexecute\u001b[0m\u001b[1;33m(\u001b[0m\u001b[0mdriver_command\u001b[0m\u001b[1;33m,\u001b[0m \u001b[0mparams\u001b[0m\u001b[1;33m)\u001b[0m\u001b[1;33m\u001b[0m\u001b[1;33m\u001b[0m\u001b[0m\n\u001b[0;32m    320\u001b[0m         \u001b[1;32mif\u001b[0m \u001b[0mresponse\u001b[0m\u001b[1;33m:\u001b[0m\u001b[1;33m\u001b[0m\u001b[1;33m\u001b[0m\u001b[0m\n\u001b[1;32m--> 321\u001b[1;33m             \u001b[0mself\u001b[0m\u001b[1;33m.\u001b[0m\u001b[0merror_handler\u001b[0m\u001b[1;33m.\u001b[0m\u001b[0mcheck_response\u001b[0m\u001b[1;33m(\u001b[0m\u001b[0mresponse\u001b[0m\u001b[1;33m)\u001b[0m\u001b[1;33m\u001b[0m\u001b[1;33m\u001b[0m\u001b[0m\n\u001b[0m\u001b[0;32m    322\u001b[0m             response['value'] = self._unwrap_value(\n\u001b[0;32m    323\u001b[0m                 response.get('value', None))\n",
      "\u001b[1;32m~\\anaconda3\\lib\\site-packages\\selenium\\webdriver\\remote\\errorhandler.py\u001b[0m in \u001b[0;36mcheck_response\u001b[1;34m(self, response)\u001b[0m\n\u001b[0;32m    240\u001b[0m                 \u001b[0malert_text\u001b[0m \u001b[1;33m=\u001b[0m \u001b[0mvalue\u001b[0m\u001b[1;33m[\u001b[0m\u001b[1;34m'alert'\u001b[0m\u001b[1;33m]\u001b[0m\u001b[1;33m.\u001b[0m\u001b[0mget\u001b[0m\u001b[1;33m(\u001b[0m\u001b[1;34m'text'\u001b[0m\u001b[1;33m)\u001b[0m\u001b[1;33m\u001b[0m\u001b[1;33m\u001b[0m\u001b[0m\n\u001b[0;32m    241\u001b[0m             \u001b[1;32mraise\u001b[0m \u001b[0mexception_class\u001b[0m\u001b[1;33m(\u001b[0m\u001b[0mmessage\u001b[0m\u001b[1;33m,\u001b[0m \u001b[0mscreen\u001b[0m\u001b[1;33m,\u001b[0m \u001b[0mstacktrace\u001b[0m\u001b[1;33m,\u001b[0m \u001b[0malert_text\u001b[0m\u001b[1;33m)\u001b[0m\u001b[1;33m\u001b[0m\u001b[1;33m\u001b[0m\u001b[0m\n\u001b[1;32m--> 242\u001b[1;33m         \u001b[1;32mraise\u001b[0m \u001b[0mexception_class\u001b[0m\u001b[1;33m(\u001b[0m\u001b[0mmessage\u001b[0m\u001b[1;33m,\u001b[0m \u001b[0mscreen\u001b[0m\u001b[1;33m,\u001b[0m \u001b[0mstacktrace\u001b[0m\u001b[1;33m)\u001b[0m\u001b[1;33m\u001b[0m\u001b[1;33m\u001b[0m\u001b[0m\n\u001b[0m\u001b[0;32m    243\u001b[0m \u001b[1;33m\u001b[0m\u001b[0m\n\u001b[0;32m    244\u001b[0m     \u001b[1;32mdef\u001b[0m \u001b[0m_value_or_default\u001b[0m\u001b[1;33m(\u001b[0m\u001b[0mself\u001b[0m\u001b[1;33m,\u001b[0m \u001b[0mobj\u001b[0m\u001b[1;33m,\u001b[0m \u001b[0mkey\u001b[0m\u001b[1;33m,\u001b[0m \u001b[0mdefault\u001b[0m\u001b[1;33m)\u001b[0m\u001b[1;33m:\u001b[0m\u001b[1;33m\u001b[0m\u001b[1;33m\u001b[0m\u001b[0m\n",
      "\u001b[1;31mNoSuchWindowException\u001b[0m: Message: no such window: target window already closed\nfrom unknown error: web view not found\n  (Session info: chrome=109.0.5414.121)\n"
     ]
    }
   ],
   "source": [
    "# 개별 와인의 url을 받아와서 정보 수집\n",
    "soups = [] # 개별 와인 page의 url정보가 들어갈 리스트\n",
    "\n",
    "for i in range(len(link_list)):\n",
    "    driver = webdriver.Chrome(options=options)\n",
    "    driver.get(link_list[i])\n",
    "    driver.maximize_window()\n",
    "    time.sleep(1)\n",
    "    prev_height = driver.execute_script('return document.body.scrollHeight')\n",
    "\n",
    "    while True:\n",
    "        driver.execute_script('window.scrollTo(0, document.body.scrollHeight)')\n",
    "        time.sleep(2)\n",
    "        \n",
    "        curr_height = driver.execute_script('return document.body.scrollHeight')\n",
    "\n",
    "        if curr_height == prev_height:\n",
    "            driver.execute_script('window.scrollTo(0, 0)')\n",
    "            break\n",
    "        prev_height = curr_height\n",
    "    \n",
    "    soup = BeautifulSoup(driver.page_source, 'lxml')\n",
    "    soups.append(soup)\n",
    "    driver.quit()"
   ]
  },
  {
   "cell_type": "markdown",
   "id": "0e89c10e",
   "metadata": {},
   "source": [
    "위 코드 약 45분 실행"
   ]
  },
  {
   "cell_type": "code",
   "execution_count": 21,
   "id": "d79d7969",
   "metadata": {},
   "outputs": [
    {
     "data": {
      "text/plain": [
       "0"
      ]
     },
     "execution_count": 21,
     "metadata": {},
     "output_type": "execute_result"
    }
   ],
   "source": [
    "db = pymysql.connect(host='localhost', port=3306, user='root', passwd='1234', db='mywork', charset='utf8')\n",
    "\n",
    "cursor = db.cursor()\n",
    "\n",
    "sql = \"\"\"\n",
    "    create table wine_list (\n",
    "        wine_name varchar(100) not null,\n",
    "        wine_vintage MEDIUMINT,\n",
    "        wine_rate decimal(4,2),\n",
    "        rating_num MEDIUMINT,\n",
    "        country varchar(100) not null,\n",
    "        region varchar(100) not null,\n",
    "        farm varchar(100) not null,\n",
    "        category varchar(100) not null,\n",
    "        variety  varchar(100) not null, \n",
    "        cost MEDIUMINT,\n",
    "        tasty_note varchar(100),\n",
    "        tasty_num MEDIUMINT \n",
    "    );\n",
    "    \"\"\"\n",
    "\n",
    "cursor.execute(sql)"
   ]
  },
  {
   "cell_type": "code",
   "execution_count": 22,
   "id": "e2524f26",
   "metadata": {},
   "outputs": [],
   "source": [
    "#와인의 정보 수집\n",
    "for i in range(len(soups)):\n",
    "    rate = soups[i].find('div', {'class':'vivinoRating_averageValue__uDdPM'}).text\n",
    "    \n",
    "    if soups[i].find('a', {'class':'wine'}) != None:\n",
    "        name = soups[i].find('a', {'class':'wine'}).text.replace('\\n', '').replace('\\n', '')\n",
    "    else:\n",
    "        name = soups[i].find('span', {'class':'vintage'}).text\n",
    "    \n",
    "    country = soups[i].find('div', {'class':'breadCrumbs__breadCrumbs--2pkcX'}).text.split('·')[0],\n",
    "    region = soups[i].find('div', {'class':'breadCrumbs__breadCrumbs--2pkcX'}).text.split('·')[1],\n",
    "    farm = soups[i].find('div', {'class':'breadCrumbs__breadCrumbs--2pkcX'}).text.split('·')[2],\n",
    "    category = soups[i].find('div', {'class':'breadCrumbs__breadCrumbs--2pkcX'}).text.split('·')[3],#와인종류\n",
    "    variety = soups[i].find('div', {'class':'breadCrumbs__breadCrumbs--2pkcX'}).text.split('·')[4] #포도품종\n",
    "    # cost = soups[i].find('span', {'class':'purchaseAvailabilityPPC__amount--2_4GT'}).text[1:].replace(',','.')\n",
    "    vintage = soups[i].find('span', {'class' : 'vintage'}).text[-5:-1]\n",
    "    rating_num = soups[i].find('div',{'class':'vivinoRating_caption__xL84P'}).text.split(' ')[0]\n",
    "    \n",
    "    # 가격정보가 다르게 표기된거 있음\n",
    "    if soups[i].find('span', {'class':'purchaseAvailabilityPPC__amount--2_4GT'}) != None:\n",
    "        cost = soups[i].find('span', {'class':'purchaseAvailabilityPPC__amount--2_4GT'}).text[1:].replace(',','.')\n",
    "    else:\n",
    "        cost = 0\n",
    "        \n",
    "    rate = float(rate)\n",
    "    name = str(name)\n",
    "    country = str(country).translate(str.maketrans(\"()'',\",\"     \")).replace(' ','')\n",
    "    region = str(region).translate(str.maketrans(\"()'',\",\"     \")).replace(' ','')\n",
    "    farm = str(farm).translate(str.maketrans(\"()'',\",\"     \")).replace(' ','')\n",
    "    category =str(category).translate(str.maketrans(\"()'',\",\"     \")).replace(' ','')\n",
    "    variety = str(variety)\n",
    "    cost = float(cost)\n",
    "    rating_num = int(rating_num)\n",
    "    \n",
    "    # vinatge가 없는 와인을 존재 if N.V거나 cato로 표기되어 있음\n",
    "    try:\n",
    "        vintage = int(vintage)\n",
    "    except ValueError:\n",
    "        vintage = 0\n",
    "\n",
    "    a = soups[i].find_all('span', {'class': 'tasteNote__flavorGroup--1Uaen'})[:3]\n",
    "    b =  soups[i].find_all('div', {'class': 'tasteNote__mentions--1T_d5'})[:3]\n",
    "\n",
    "    taste_names = []\n",
    "    taste_nums = []\n",
    "    \n",
    "    for taste_name in a:\n",
    "        taste_names.append(str(taste_name.text))\n",
    "\n",
    "    for taste_num in b:\n",
    "        taste_nums.append(int(taste_num.text.split()[0]))\n",
    "    # print(taste_names, taste_nums)\n",
    "\n",
    "    \n",
    "    if len(a) == 0:\n",
    "        sql = f\"\"\"\n",
    "                INSERT INTO wine_list(wine_name, wine_vintage, wine_rate, rating_num, country, region, farm, category, variety, cost)\n",
    "                    VALUES { name, vintage, rate, rating_num, country, region, farm, category, variety, cost },\n",
    "                           { name, vintage, rate, rating_num, country, region, farm, category, variety, cost },\n",
    "                           { name, vintage, rate, rating_num, country, region, farm, category, variety, cost };\n",
    "                \"\"\"\n",
    "    else:\n",
    "        sql = f\"\"\"\n",
    "                INSERT INTO wine_list()\n",
    "                    VALUES { name, vintage, rate, rating_num, country, region, farm, category, variety, cost, taste_names[0], taste_nums[0] },\n",
    "                           { name, vintage, rate, rating_num, country, region, farm, category, variety, cost, taste_names[1], taste_nums[1] },\n",
    "                           { name, vintage, rate, rating_num, country, region, farm, category, variety, cost, taste_names[2], taste_nums[2] };\n",
    "                \"\"\"\n",
    "\n",
    "    cursor.execute(sql)\n",
    "    db.commit()\n"
   ]
  }
 ],
 "metadata": {
  "kernelspec": {
   "display_name": "Python 3 (ipykernel)",
   "language": "python",
   "name": "python3"
  },
  "language_info": {
   "codemirror_mode": {
    "name": "ipython",
    "version": 3
   },
   "file_extension": ".py",
   "mimetype": "text/x-python",
   "name": "python",
   "nbconvert_exporter": "python",
   "pygments_lexer": "ipython3",
   "version": "3.9.13"
  }
 },
 "nbformat": 4,
 "nbformat_minor": 5
}
